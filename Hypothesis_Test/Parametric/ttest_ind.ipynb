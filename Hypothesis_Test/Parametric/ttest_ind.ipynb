{
 "cells": [
  {
   "cell_type": "code",
   "execution_count": 16,
   "metadata": {},
   "outputs": [
    {
     "name": "stdout",
     "output_type": "stream",
     "text": [
      "     PassengerId  Survived  Pclass                            Name   Sex   \n",
      "0              1         0       3         Braund, Mr. Owen Harris  male  \\\n",
      "4              5         0       3        Allen, Mr. William Henry  male   \n",
      "5              6         0       3                Moran, Mr. James  male   \n",
      "6              7         0       1         McCarthy, Mr. Timothy J  male   \n",
      "7              8         0       3  Palsson, Master. Gosta Leonard  male   \n",
      "..           ...       ...     ...                             ...   ...   \n",
      "883          884         0       2   Banfield, Mr. Frederick James  male   \n",
      "884          885         0       3          Sutehall, Mr. Henry Jr  male   \n",
      "886          887         0       2           Montvila, Rev. Juozas  male   \n",
      "889          890         1       1           Behr, Mr. Karl Howell  male   \n",
      "890          891         0       3             Dooley, Mr. Patrick  male   \n",
      "\n",
      "      Age  SibSp  Parch            Ticket     Fare Cabin Embarked  \n",
      "0    22.0      1      0         A/5 21171   7.2500   NaN        S  \n",
      "4    35.0      0      0            373450   8.0500   NaN        S  \n",
      "5     NaN      0      0            330877   8.4583   NaN        Q  \n",
      "6    54.0      0      0             17463  51.8625   E46        S  \n",
      "7     2.0      3      1            349909  21.0750   NaN        S  \n",
      "..    ...    ...    ...               ...      ...   ...      ...  \n",
      "883  28.0      0      0  C.A./SOTON 34068  10.5000   NaN        S  \n",
      "884  25.0      0      0   SOTON/OQ 392076   7.0500   NaN        S  \n",
      "886  27.0      0      0            211536  13.0000   NaN        S  \n",
      "889  26.0      0      0            111369  30.0000  C148        C  \n",
      "890  32.0      0      0            370376   7.7500   NaN        Q  \n",
      "\n",
      "[577 rows x 12 columns]\n",
      "     PassengerId  Survived  Pclass   \n",
      "1              2         1       1  \\\n",
      "2              3         1       3   \n",
      "3              4         1       1   \n",
      "8              9         1       3   \n",
      "9             10         1       2   \n",
      "..           ...       ...     ...   \n",
      "880          881         1       2   \n",
      "882          883         0       3   \n",
      "885          886         0       3   \n",
      "887          888         1       1   \n",
      "888          889         0       3   \n",
      "\n",
      "                                                  Name     Sex   Age  SibSp   \n",
      "1    Cumings, Mrs. John Bradley (Florence Briggs Th...  female  38.0      1  \\\n",
      "2                               Heikkinen, Miss. Laina  female  26.0      0   \n",
      "3         Futrelle, Mrs. Jacques Heath (Lily May Peel)  female  35.0      1   \n",
      "8    Johnson, Mrs. Oscar W (Elisabeth Vilhelmina Berg)  female  27.0      0   \n",
      "9                  Nasser, Mrs. Nicholas (Adele Achem)  female  14.0      1   \n",
      "..                                                 ...     ...   ...    ...   \n",
      "880       Shelley, Mrs. William (Imanita Parrish Hall)  female  25.0      0   \n",
      "882                       Dahlberg, Miss. Gerda Ulrika  female  22.0      0   \n",
      "885               Rice, Mrs. William (Margaret Norton)  female  39.0      0   \n",
      "887                       Graham, Miss. Margaret Edith  female  19.0      0   \n",
      "888           Johnston, Miss. Catherine Helen \"Carrie\"  female   NaN      1   \n",
      "\n",
      "     Parch            Ticket     Fare Cabin Embarked  \n",
      "1        0          PC 17599  71.2833   C85        C  \n",
      "2        0  STON/O2. 3101282   7.9250   NaN        S  \n",
      "3        0            113803  53.1000  C123        S  \n",
      "8        2            347742  11.1333   NaN        S  \n",
      "9        0            237736  30.0708   NaN        C  \n",
      "..     ...               ...      ...   ...      ...  \n",
      "880      1            230433  26.0000   NaN        S  \n",
      "882      0              7552  10.5167   NaN        S  \n",
      "885      5            382652  29.1250   NaN        Q  \n",
      "887      0            112053  30.0000   B42        S  \n",
      "888      2        W./C. 6607  23.4500   NaN        S  \n",
      "\n",
      "[314 rows x 12 columns]\n",
      "0.18890814558058924\n",
      "0.7420382165605095\n",
      "p-value: 0.0000 null hypo rejection\n"
     ]
    }
   ],
   "source": [
    "import pandas as pd \n",
    "from scipy import stats\n",
    "\n",
    "# 데이터 불러오기\n",
    "\n",
    "titanic_df = pd.read_csv('./data/Titanic_data.csv')\n",
    "\n",
    "# 남성 승객과 여성 승객의 생존 여부에 따른 데이터프레임 생성\n",
    "\n",
    "male_df = titanic_df[titanic_df['Sex'] == 'male']\n",
    "female_df = titanic_df[titanic_df['Sex'] == 'female']\n",
    "\n",
    "print(male_df)\n",
    "print(female_df)\n",
    "\n",
    "# 각 데이터프레임의 생존 여부의 평균 계산\n",
    "\n",
    "male_survival_rate = male_df['Survived'].mean()\n",
    "female_survival_rate = female_df['Survived'].mean()\n",
    "\n",
    "print(male_survival_rate)\n",
    "print(female_survival_rate)\n",
    "\n",
    "# t-test\n",
    "\n",
    "t, p = stats.ttest_ind(male_df['Survived'], female_df['Survived'])\n",
    "\n",
    "# 유의 수준과 비교해 귀무 가설 기각할지 결정\n",
    "\n",
    "alpha = 0.05\n",
    "if p < alpha:\n",
    "    print(f\"p-value: {p:.4f}\", \"null hypo rejection\")\n",
    "else:\n",
    "    print(f\"{p:.4f}\", \"null hypo\" )\n"
   ]
  },
  {
   "cell_type": "code",
   "execution_count": 17,
   "metadata": {},
   "outputs": [
    {
     "data": {
      "text/plain": [
       "0       True\n",
       "1      False\n",
       "2      False\n",
       "3      False\n",
       "4       True\n",
       "       ...  \n",
       "886     True\n",
       "887    False\n",
       "888    False\n",
       "889     True\n",
       "890     True\n",
       "Name: Sex, Length: 891, dtype: bool"
      ]
     },
     "execution_count": 17,
     "metadata": {},
     "output_type": "execute_result"
    }
   ],
   "source": [
    "titanic_df['Sex'] == 'male'"
   ]
  },
  {
   "cell_type": "code",
   "execution_count": 18,
   "metadata": {},
   "outputs": [
    {
     "data": {
      "text/plain": [
       "0      0\n",
       "4      0\n",
       "5      0\n",
       "6      0\n",
       "7      0\n",
       "      ..\n",
       "883    0\n",
       "884    0\n",
       "886    0\n",
       "889    1\n",
       "890    0\n",
       "Name: Survived, Length: 577, dtype: int64"
      ]
     },
     "execution_count": 18,
     "metadata": {},
     "output_type": "execute_result"
    }
   ],
   "source": [
    "male_df['Survived']"
   ]
  },
  {
   "cell_type": "code",
   "execution_count": 19,
   "metadata": {},
   "outputs": [
    {
     "name": "stdout",
     "output_type": "stream",
     "text": [
      "-3.4683862198862783 0.013330035373921308\n",
      "-3.4683862198862783 0.013330035373921308\n"
     ]
    }
   ],
   "source": [
    "tt, pp = stats.ttest_ind([1, 2, 3, 4], [10, 20, 30, 40])\n",
    "\n",
    "print(tt, pp)\n",
    "\n",
    "tt, pp = stats.ttest_ind([4, 3, 2, 1], [10, 20, 30, 40])\n",
    "\n",
    "print(tt, pp)"
   ]
  }
 ],
 "metadata": {
  "kernelspec": {
   "display_name": "AI",
   "language": "python",
   "name": "ai"
  },
  "language_info": {
   "codemirror_mode": {
    "name": "ipython",
    "version": 3
   },
   "file_extension": ".py",
   "mimetype": "text/x-python",
   "name": "python",
   "nbconvert_exporter": "python",
   "pygments_lexer": "ipython3",
   "version": "3.8.16"
  },
  "orig_nbformat": 4
 },
 "nbformat": 4,
 "nbformat_minor": 2
}
