{
 "cells": [
  {
   "cell_type": "code",
   "execution_count": 7,
   "metadata": {},
   "outputs": [
    {
     "name": "stdout",
     "output_type": "stream",
     "text": [
      "   A  B  C\n",
      "0  4  2  5\n",
      "1  5  3  2\n",
      "2  1  5  2\n",
      "3  2  3  1\n",
      "4  4  5  2\n",
      "5  1  4  2\n",
      "6  1  5  2\n",
      "7  2  3  2\n",
      "8  5  5  1\n",
      "9  5  3  5\n"
     ]
    }
   ],
   "source": [
    "import pandas as pd \n",
    "import numpy as np\n",
    "\n",
    "np.random.seed(1)\n",
    "data = {\n",
    "    'A': np.random.randint(1, 6, 10), \n",
    "    'B': np.random.randint(1, 6, 10),\n",
    "    'C': np.random.randint(1, 6, 10)\n",
    "}\n",
    "\n",
    "df = pd.DataFrame(data)\n",
    "print(df)"
   ]
  },
  {
   "attachments": {},
   "cell_type": "markdown",
   "metadata": {},
   "source": []
  },
  {
   "cell_type": "code",
   "execution_count": 8,
   "metadata": {},
   "outputs": [
    {
     "name": "stdout",
     "output_type": "stream",
     "text": [
      "one-way ANOVA\n",
      "=============\n",
      "F value: 2.2966\n",
      "p value: 0.1199\n",
      "=============\n",
      "p-value: 0.1199, fail to reject H0\n"
     ]
    }
   ],
   "source": [
    "from scipy.stats import f_oneway\n",
    "\n",
    "f_stat, p_val = f_oneway(df['A'], df['B'], df['C'])\n",
    "\n",
    "\n",
    "print('one-way ANOVA')\n",
    "print('=============')\n",
    "print(f'F value: {f_stat:.4f}')\n",
    "print(f'p value: {p_val:.4f}')\n",
    "print('=============')\n",
    "\n",
    "alpha = 0.05\n",
    "if p_val < alpha:\n",
    "    print(f\"p-value: {p_val:.4f}, reject H0\")\n",
    "else:\n",
    "    print(f\"p-value: {p_val:.4f}, fail to reject H0\")"
   ]
  },
  {
   "cell_type": "code",
   "execution_count": null,
   "metadata": {},
   "outputs": [],
   "source": []
  }
 ],
 "metadata": {
  "kernelspec": {
   "display_name": "AI",
   "language": "python",
   "name": "ai"
  },
  "language_info": {
   "codemirror_mode": {
    "name": "ipython",
    "version": 3
   },
   "file_extension": ".py",
   "mimetype": "text/x-python",
   "name": "python",
   "nbconvert_exporter": "python",
   "pygments_lexer": "ipython3",
   "version": "3.8.16"
  },
  "orig_nbformat": 4
 },
 "nbformat": 4,
 "nbformat_minor": 2
}
