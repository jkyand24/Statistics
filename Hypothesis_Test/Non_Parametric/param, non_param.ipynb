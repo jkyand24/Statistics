{
 "cells": [
  {
   "cell_type": "code",
   "execution_count": 3,
   "metadata": {},
   "outputs": [
    {
     "name": "stdout",
     "output_type": "stream",
     "text": [
      "t statistic: -4.755, p-value: 0.000\n",
      "u statistic: 145.000, p-value: 0.000\n"
     ]
    }
   ],
   "source": [
    "import numpy as np\n",
    "from scipy import stats\n",
    "\n",
    "np.random.seed(42)\n",
    "\n",
    "n = 100\n",
    "mu1, mu2 = 0, 0.5\n",
    "sigma = 1\n",
    "data1 = np.random.normal(mu1, sigma, n)\n",
    "data2 = np.random.normal(mu2, sigma, n)\n",
    "\n",
    "m = 30\n",
    "data3 = np.random.uniform(0, 1, m)\n",
    "data4 = np.random.uniform(0.5, 1.5, m)\n",
    "\n",
    "t_stat, p_val = stats.ttest_ind(data1, data2)\n",
    "print(\"t statistic: {:.3f}, p-value: {:.3f}\".format(t_stat, p_val))\n",
    "\n",
    "u_stat, p_val = stats.mannwhitneyu(data3, data4)\n",
    "print(\"u statistic: {:.3f}, p-value: {:.3f}\".format(u_stat, p_val))"
   ]
  },
  {
   "cell_type": "code",
   "execution_count": null,
   "metadata": {},
   "outputs": [],
   "source": []
  }
 ],
 "metadata": {
  "kernelspec": {
   "display_name": "AI",
   "language": "python",
   "name": "ai"
  },
  "language_info": {
   "codemirror_mode": {
    "name": "ipython",
    "version": 3
   },
   "file_extension": ".py",
   "mimetype": "text/x-python",
   "name": "python",
   "nbconvert_exporter": "python",
   "pygments_lexer": "ipython3",
   "version": "3.8.16"
  },
  "orig_nbformat": 4
 },
 "nbformat": 4,
 "nbformat_minor": 2
}
