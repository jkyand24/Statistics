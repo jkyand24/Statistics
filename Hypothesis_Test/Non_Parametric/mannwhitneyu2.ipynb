{
 "cells": [
  {
   "cell_type": "code",
   "execution_count": 7,
   "metadata": {},
   "outputs": [
    {
     "name": "stdout",
     "output_type": "stream",
     "text": [
      "Mann-Whitney-U test\n",
      "Statistic: 32.5\n",
      "p-value: 0.014019277113959953\n"
     ]
    }
   ],
   "source": [
    "import numpy as np\n",
    "import pandas as pd\n",
    "from scipy import stats\n",
    "from scipy.stats import mannwhitneyu\n",
    "\n",
    "data = pd.read_csv('./data/Mann-Whitney-Test_sample_data.csv')\n",
    "\n",
    "stat, p = mannwhitneyu(data['group1'], data['group2'])\n",
    "\n",
    "n1, n2 = len(data['group1']), len(data['group2'])\n",
    "\n",
    "if stat > n1*n2 / 2: \n",
    "    stat = n1*n2 - stat\n",
    "    \n",
    "p_value = 2 * stats.norm.cdf(-abs(stat) / np.sqrt(n1 * n2 * (n1+n2+1) / 12))\n",
    "\n",
    "print('Mann-Whitney-U test')\n",
    "print('Statistic:', stat)\n",
    "print('p-value:', p_value)"
   ]
  },
  {
   "cell_type": "code",
   "execution_count": null,
   "metadata": {},
   "outputs": [],
   "source": []
  }
 ],
 "metadata": {
  "kernelspec": {
   "display_name": "AI",
   "language": "python",
   "name": "ai"
  },
  "language_info": {
   "codemirror_mode": {
    "name": "ipython",
    "version": 3
   },
   "file_extension": ".py",
   "mimetype": "text/x-python",
   "name": "python",
   "nbconvert_exporter": "python",
   "pygments_lexer": "ipython3",
   "version": "3.8.16"
  },
  "orig_nbformat": 4
 },
 "nbformat": 4,
 "nbformat_minor": 2
}
