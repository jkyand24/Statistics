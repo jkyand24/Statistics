{
 "cells": [
  {
   "cell_type": "code",
   "execution_count": 4,
   "metadata": {},
   "outputs": [
    {
     "name": "stdout",
     "output_type": "stream",
     "text": [
      "statistic: 46.584295081967184\n",
      "p-value: 7.6621182690351e-11\n"
     ]
    }
   ],
   "source": [
    "import numpy as np\n",
    "from scipy.stats import kruskal\n",
    "\n",
    "np.random.seed(1)\n",
    "group1 = np.random.normal(loc = 5, scale = 1, size = 20)\n",
    "group2 = np.random.normal(loc = 7, scale = 1, size = 25)\n",
    "group3 = np.random.normal(loc = 10, scale = 1, size = 15)\n",
    "\n",
    "h, p = kruskal(group1, group2, group3)\n",
    "\n",
    "print('statistic:', h)\n",
    "print('p-value:', p)"
   ]
  },
  {
   "cell_type": "code",
   "execution_count": null,
   "metadata": {},
   "outputs": [],
   "source": []
  }
 ],
 "metadata": {
  "kernelspec": {
   "display_name": "AI",
   "language": "python",
   "name": "ai"
  },
  "language_info": {
   "codemirror_mode": {
    "name": "ipython",
    "version": 3
   },
   "file_extension": ".py",
   "mimetype": "text/x-python",
   "name": "python",
   "nbconvert_exporter": "python",
   "pygments_lexer": "ipython3",
   "version": "3.8.16"
  },
  "orig_nbformat": 4
 },
 "nbformat": 4,
 "nbformat_minor": 2
}
