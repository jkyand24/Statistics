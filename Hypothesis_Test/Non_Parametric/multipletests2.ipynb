{
 "cells": [
  {
   "cell_type": "code",
   "execution_count": 2,
   "metadata": {},
   "outputs": [
    {
     "name": "stdout",
     "output_type": "stream",
     "text": [
      "---Sample #1---\n",
      "Statistic: 18.0\n",
      "p-value: 0.375\n",
      "Same distribution (fail to reject H0)\n",
      "\n",
      "---Sample #2---\n",
      "Statistic: 13.0\n",
      "p-value: 0.16015625\n",
      "Same distribution (fail to reject H0)\n",
      "\n",
      "---Sample #3---\n",
      "Statistic: 20.5\n",
      "p-value: 0.556640625\n",
      "Same distribution (fail to reject H0)\n",
      "\n",
      "---Sample #4---\n",
      "Statistic: 22.0\n",
      "p-value: 0.625\n",
      "Same distribution (fail to reject H0)\n",
      "\n",
      "---Sample #5---\n",
      "Statistic: 24.0\n",
      "p-value: 0.76953125\n",
      "Same distribution (fail to reject H0)\n",
      "\n",
      "---Sample #6---\n",
      "Statistic: 21.5\n",
      "p-value: 0.625\n",
      "Same distribution (fail to reject H0)\n",
      "\n",
      "---Sample #7---\n",
      "Statistic: 17.5\n",
      "p-value: 0.375\n",
      "Same distribution (fail to reject H0)\n",
      "\n",
      "---Sample #8---\n",
      "Statistic: 17.5\n",
      "p-value: 0.375\n",
      "Same distribution (fail to reject H0)\n",
      "\n",
      "---Sample #9---\n",
      "Statistic: 26.0\n",
      "p-value: 0.921875\n",
      "Same distribution (fail to reject H0)\n",
      "\n",
      "---Sample #10---\n",
      "Statistic: 12.5\n",
      "p-value: 0.16015625\n",
      "Same distribution (fail to reject H0)\n",
      "\n",
      "----------Bonferroni correction----------\n",
      "Sample 1: Same distribution (fail to reject H0)\n",
      "Sample 2: Same distribution (fail to reject H0)\n",
      "Sample 3: Same distribution (fail to reject H0)\n",
      "Sample 4: Same distribution (fail to reject H0)\n",
      "Sample 5: Same distribution (fail to reject H0)\n",
      "Sample 6: Same distribution (fail to reject H0)\n",
      "Sample 7: Same distribution (fail to reject H0)\n",
      "Sample 8: Same distribution (fail to reject H0)\n",
      "Sample 9: Same distribution (fail to reject H0)\n",
      "Sample 10: Same distribution (fail to reject H0)\n",
      "----------BH correction----------\n",
      "Sample 1: Same distribution (fail to reject H0)\n",
      "Sample 2: Same distribution (fail to reject H0)\n",
      "Sample 3: Same distribution (fail to reject H0)\n",
      "Sample 4: Same distribution (fail to reject H0)\n",
      "Sample 5: Same distribution (fail to reject H0)\n",
      "Sample 6: Same distribution (fail to reject H0)\n",
      "Sample 7: Same distribution (fail to reject H0)\n",
      "Sample 8: Same distribution (fail to reject H0)\n",
      "Sample 9: Same distribution (fail to reject H0)\n",
      "Sample 10: Same distribution (fail to reject H0)\n"
     ]
    }
   ],
   "source": [
    "import pandas as pd \n",
    "from scipy.stats import wilcoxon\n",
    "from statsmodels.stats.multitest import multipletests\n",
    "\n",
    "df = pd.read_csv('./data/treatment_data.csv')\n",
    "\n",
    "p_values = []\n",
    "\n",
    "for i in range(10):\n",
    "    sample = df.sample(frac = 0.5)\n",
    "    \n",
    "    stat, p = wilcoxon(sample['pre_treatment'], sample['post_treatment'])\n",
    "    p_values.append(p)\n",
    "    \n",
    "    print(f'---Sample #{i+1}---')\n",
    "    \n",
    "    print('Statistic:', stat)\n",
    "    print('p-value:', p)\n",
    "    \n",
    "    if p > 0.05:\n",
    "        print('Same distribution (fail to reject H0)\\n')\n",
    "    else:\n",
    "        print('Different distribution (reject H0)\\n')\n",
    "        \n",
    "\n",
    "alpha = 0.05\n",
    "\n",
    "rejects_bonf, corrected_p_bonf, _, corrected_a_bonf = multipletests(\n",
    "    p_values, alpha = alpha, method = 'bonferroni')\n",
    "\n",
    "print('----------Bonferroni correction----------')\n",
    "for i in range(len(rejects_bonf)):\n",
    "    if rejects_bonf[i]:\n",
    "        print(f'Sample {i+1}: Different distribution (reject H0)')\n",
    "    else:\n",
    "        print(f'Sample {i+1}: Same distribution (fail to reject H0)')\n",
    "        \n",
    "           \n",
    "rejects_bh, corrected_p_bh, _, corrected_a_bh = multipletests(\n",
    "    p_values, alpha = alpha, method = 'fdr_bh')\n",
    "\n",
    "print('----------BH correction----------')\n",
    "for i in range(len(rejects_bh)):\n",
    "    if rejects_bh[i]:\n",
    "        print(f'Sample {i+1}: Different distribution (reject H0)')\n",
    "    else:\n",
    "        print(f'Sample {i+1}: Same distribution (fail to reject H0)')"
   ]
  },
  {
   "cell_type": "code",
   "execution_count": 3,
   "metadata": {},
   "outputs": [
    {
     "data": {
      "text/plain": [
       "array([False, False, False, False, False, False, False, False, False,\n",
       "       False])"
      ]
     },
     "execution_count": 3,
     "metadata": {},
     "output_type": "execute_result"
    }
   ],
   "source": [
    "rejects_bonf"
   ]
  },
  {
   "cell_type": "code",
   "execution_count": 4,
   "metadata": {},
   "outputs": [
    {
     "data": {
      "text/plain": [
       "array([1., 1., 1., 1., 1., 1., 1., 1., 1., 1.])"
      ]
     },
     "execution_count": 4,
     "metadata": {},
     "output_type": "execute_result"
    }
   ],
   "source": [
    "corrected_p_bonf"
   ]
  },
  {
   "cell_type": "code",
   "execution_count": 5,
   "metadata": {},
   "outputs": [
    {
     "data": {
      "text/plain": [
       "0.005"
      ]
     },
     "execution_count": 5,
     "metadata": {},
     "output_type": "execute_result"
    }
   ],
   "source": [
    "corrected_a_bonf"
   ]
  },
  {
   "cell_type": "code",
   "execution_count": null,
   "metadata": {},
   "outputs": [],
   "source": []
  }
 ],
 "metadata": {
  "kernelspec": {
   "display_name": "AI",
   "language": "python",
   "name": "ai"
  },
  "language_info": {
   "codemirror_mode": {
    "name": "ipython",
    "version": 3
   },
   "file_extension": ".py",
   "mimetype": "text/x-python",
   "name": "python",
   "nbconvert_exporter": "python",
   "pygments_lexer": "ipython3",
   "version": "3.8.16"
  },
  "orig_nbformat": 4
 },
 "nbformat": 4,
 "nbformat_minor": 2
}
