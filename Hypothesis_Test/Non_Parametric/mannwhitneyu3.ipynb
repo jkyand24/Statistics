{
 "cells": [
  {
   "cell_type": "code",
   "execution_count": 3,
   "metadata": {},
   "outputs": [
    {
     "name": "stdout",
     "output_type": "stream",
     "text": [
      "statistic: 2834.0\n",
      "p-value: 1.2154388166891524e-07\n",
      "Significant difference\n"
     ]
    }
   ],
   "source": [
    "import numpy as np\n",
    "import pandas as pd\n",
    "from scipy.stats import mannwhitneyu\n",
    "\n",
    "np.random.seed(42)\n",
    "group1 = np.random.normal(loc = 6, scale = 1.5, size = 100)\n",
    "group2 = np.random.normal(loc = 7, scale = 1.5, size = 100)\n",
    "\n",
    "data = pd.DataFrame({'group1': group1, 'group2': group2})\n",
    "data.to_csv('./data/sleep_data.csv', index = False)\n",
    "\n",
    "data = pd.read_csv('./data/sleep_data.csv')\n",
    "\n",
    "group1_data = data['group1']\n",
    "group2_data = data['group2']\n",
    "\n",
    "stat, p_value = mannwhitneyu(group1_data, group2_data, alternative = 'two-sided')\n",
    "\n",
    "print('statistic:', stat)\n",
    "print('p-value:', p_value)\n",
    "\n",
    "if p_value < 0.05:\n",
    "    print('Significant difference')\n",
    "else:\n",
    "    print('No significan difference')"
   ]
  }
 ],
 "metadata": {
  "kernelspec": {
   "display_name": "AI",
   "language": "python",
   "name": "ai"
  },
  "language_info": {
   "codemirror_mode": {
    "name": "ipython",
    "version": 3
   },
   "file_extension": ".py",
   "mimetype": "text/x-python",
   "name": "python",
   "nbconvert_exporter": "python",
   "pygments_lexer": "ipython3",
   "version": "3.8.16"
  },
  "orig_nbformat": 4
 },
 "nbformat": 4,
 "nbformat_minor": 2
}
