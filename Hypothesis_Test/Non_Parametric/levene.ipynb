{
 "cells": [
  {
   "cell_type": "code",
   "execution_count": 3,
   "metadata": {},
   "outputs": [
    {
     "name": "stdout",
     "output_type": "stream",
     "text": [
      "   group1  group2\n",
      "0       3       6\n",
      "1       2       4\n",
      "2       5       7\n",
      "3       1       2\n",
      "4       4       6\n",
      "5       2       3\n",
      "6       6       7\n",
      "7       7       9\n",
      "8       9      10\n",
      "9       8      11\n",
      "Statistic: 0.0\n",
      "p-value: 1.0\n",
      "Homogeneous Variance (fail to reject H0)\n"
     ]
    }
   ],
   "source": [
    "import pandas as pd\n",
    "from scipy.stats import levene\n",
    "\n",
    "data = pd.read_csv('./data/Mann-Whitney-Test_sample_data.csv')\n",
    "print(data)\n",
    "\n",
    "stat, p = levene(data['group1'], data['group2'])\n",
    "\n",
    "print('Statistic:', stat)\n",
    "print('p-value:', p)\n",
    "\n",
    "if p > 0.05:\n",
    "    print('Homogeneous Variance (fail to reject H0)')\n",
    "else:\n",
    "    print('Heterogeneous Variance (reject H0)')"
   ]
  }
 ],
 "metadata": {
  "kernelspec": {
   "display_name": "AI",
   "language": "python",
   "name": "ai"
  },
  "language_info": {
   "codemirror_mode": {
    "name": "ipython",
    "version": 3
   },
   "file_extension": ".py",
   "mimetype": "text/x-python",
   "name": "python",
   "nbconvert_exporter": "python",
   "pygments_lexer": "ipython3",
   "version": "3.8.16"
  },
  "orig_nbformat": 4
 },
 "nbformat": 4,
 "nbformat_minor": 2
}
