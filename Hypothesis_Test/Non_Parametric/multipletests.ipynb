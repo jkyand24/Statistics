{
 "cells": [
  {
   "cell_type": "code",
   "execution_count": 2,
   "metadata": {},
   "outputs": [
    {
     "name": "stdout",
     "output_type": "stream",
     "text": [
      "---Sample #1---\n",
      "Statistic: 12.5\n",
      "p-value: 0.16015625\n",
      "Same distribution (fail to reject H0)\n",
      "\n",
      "---Sample #2---\n",
      "Statistic: 26.0\n",
      "p-value: 0.921875\n",
      "Same distribution (fail to reject H0)\n",
      "\n",
      "---Sample #3---\n",
      "Statistic: 10.5\n",
      "p-value: 0.10546875\n",
      "Same distribution (fail to reject H0)\n",
      "\n",
      "---Sample #4---\n",
      "Statistic: 16.0\n",
      "p-value: 0.275390625\n",
      "Same distribution (fail to reject H0)\n",
      "\n",
      "---Sample #5---\n",
      "Statistic: 17.5\n",
      "p-value: 0.375\n",
      "Same distribution (fail to reject H0)\n",
      "\n",
      "---Sample #6---\n",
      "Statistic: 24.0\n",
      "p-value: 0.76953125\n",
      "Same distribution (fail to reject H0)\n",
      "\n",
      "---Sample #7---\n",
      "Statistic: 13.5\n",
      "p-value: 0.193359375\n",
      "Same distribution (fail to reject H0)\n",
      "\n",
      "---Sample #8---\n",
      "Statistic: 17.5\n",
      "p-value: 0.375\n",
      "Same distribution (fail to reject H0)\n",
      "\n",
      "---Sample #9---\n",
      "Statistic: 7.0\n",
      "p-value: 0.037109375\n",
      "Different distribution (reject H0)\n",
      "\n",
      "---Sample #10---\n",
      "Statistic: 9.5\n",
      "p-value: 0.083984375\n",
      "Same distribution (fail to reject H0)\n",
      "\n"
     ]
    }
   ],
   "source": [
    "import pandas as pd \n",
    "from scipy.stats import wilcoxon\n",
    "\n",
    "data = pd.read_csv('./data/treatment_data.csv')\n",
    "\n",
    "for i in range(10):\n",
    "    sample = data.sample(frac = 0.5)\n",
    "    \n",
    "    stat, p = wilcoxon(sample['pre_treatment'], sample['post_treatment'])\n",
    "    \n",
    "    print(f'---Sample #{i+1}---')\n",
    "    \n",
    "    print('Statistic:', stat)\n",
    "    print('p-value:', p)\n",
    "    \n",
    "    if p > 0.05:\n",
    "        print('Same distribution (fail to reject H0)\\n')\n",
    "    else:\n",
    "        print('Different distribution (reject H0)\\n')"
   ]
  }
 ],
 "metadata": {
  "kernelspec": {
   "display_name": "AI",
   "language": "python",
   "name": "ai"
  },
  "language_info": {
   "codemirror_mode": {
    "name": "ipython",
    "version": 3
   },
   "file_extension": ".py",
   "mimetype": "text/x-python",
   "name": "python",
   "nbconvert_exporter": "python",
   "pygments_lexer": "ipython3",
   "version": "3.8.16"
  },
  "orig_nbformat": 4
 },
 "nbformat": 4,
 "nbformat_minor": 2
}
