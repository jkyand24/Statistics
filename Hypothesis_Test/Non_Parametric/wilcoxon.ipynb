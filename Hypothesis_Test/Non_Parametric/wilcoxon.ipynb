{
 "cells": [
  {
   "cell_type": "code",
   "execution_count": 5,
   "metadata": {},
   "outputs": [
    {
     "name": "stdout",
     "output_type": "stream",
     "text": [
      "Wilcoxon Signed Rank Test\n",
      "Statistic: 0.0\n",
      "p-value: 0.001953125\n",
      "Different distribution (reject H0)\n"
     ]
    }
   ],
   "source": [
    "import numpy as np\n",
    "from scipy.stats import wilcoxon\n",
    "\n",
    "data1 = [20, 25, 30, 35, 40, 45, 50, 55, 60, 65]\n",
    "data2 = [10, 20, 25, 30, 35, 40, 45, 50, 55, 60]\n",
    "\n",
    "stat, p = wilcoxon(data1, data2)\n",
    "\n",
    "print('Wilcoxon Signed Rank Test')\n",
    "print('Statistic:', stat)\n",
    "print('p-value:', p)\n",
    "\n",
    "if p > 0.05:\n",
    "    print('Same distribution (fail to reject H0)')\n",
    "else:\n",
    "    print('Different distribution (reject H0)')"
   ]
  },
  {
   "cell_type": "code",
   "execution_count": null,
   "metadata": {},
   "outputs": [],
   "source": []
  }
 ],
 "metadata": {
  "kernelspec": {
   "display_name": "AI",
   "language": "python",
   "name": "ai"
  },
  "language_info": {
   "codemirror_mode": {
    "name": "ipython",
    "version": 3
   },
   "file_extension": ".py",
   "mimetype": "text/x-python",
   "name": "python",
   "nbconvert_exporter": "python",
   "pygments_lexer": "ipython3",
   "version": "3.8.16"
  },
  "orig_nbformat": 4
 },
 "nbformat": 4,
 "nbformat_minor": 2
}
