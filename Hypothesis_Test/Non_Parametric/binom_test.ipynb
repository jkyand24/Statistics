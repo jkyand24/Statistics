{
 "cells": [
  {
   "cell_type": "code",
   "execution_count": 2,
   "metadata": {},
   "outputs": [
    {
     "name": "stdout",
     "output_type": "stream",
     "text": [
      "[ 9.49671415  8.8617357   9.64768854 10.52302986  8.76584663  8.76586304\n",
      " 10.57921282  9.76743473  8.53052561  9.54256004  8.53658231  8.53427025\n",
      "  9.24196227  7.08671976  7.27508217  8.43771247  7.98716888  9.31424733\n",
      "  8.09197592  7.5876963 ]\n",
      "data above mu0: 8\n",
      "binom test result: 0.5034446716308594\n"
     ]
    },
    {
     "name": "stderr",
     "output_type": "stream",
     "text": [
      "C:\\Users\\정기연\\AppData\\Local\\Temp\\ipykernel_4328\\409677973.py:13: DeprecationWarning: 'binom_test' is deprecated in favour of 'binomtest' from version 1.7.0 and will be removed in Scipy 1.12.0.\n",
      "  p_value = binom_test(n_above_mu0, n = n)\n"
     ]
    }
   ],
   "source": [
    "import numpy as np\n",
    "from scipy.stats import binom_test\n",
    "\n",
    "np.random.seed(42)\n",
    "n = 20\n",
    "mu = 9\n",
    "data = np.random.normal(mu, size = n)\n",
    "print(data)\n",
    "\n",
    "mu0 = 9\n",
    "n_above_mu0 = sum(data > mu0)\n",
    "\n",
    "p_value = binom_test(n_above_mu0, n = n)\n",
    "\n",
    "print(f\"data above mu0: {n_above_mu0}\")\n",
    "print(f\"binom test result: {p_value}\")"
   ]
  },
  {
   "cell_type": "code",
   "execution_count": 3,
   "metadata": {},
   "outputs": [
    {
     "data": {
      "text/plain": [
       "8"
      ]
     },
     "execution_count": 3,
     "metadata": {},
     "output_type": "execute_result"
    }
   ],
   "source": [
    "n_above_mu0"
   ]
  },
  {
   "cell_type": "code",
   "execution_count": 4,
   "metadata": {},
   "outputs": [
    {
     "data": {
      "text/plain": [
       "array([ True, False,  True,  True, False, False,  True,  True, False,\n",
       "        True, False, False,  True, False, False, False, False,  True,\n",
       "       False, False])"
      ]
     },
     "execution_count": 4,
     "metadata": {},
     "output_type": "execute_result"
    }
   ],
   "source": [
    "data > mu0"
   ]
  },
  {
   "cell_type": "code",
   "execution_count": null,
   "metadata": {},
   "outputs": [],
   "source": []
  }
 ],
 "metadata": {
  "kernelspec": {
   "display_name": "AI",
   "language": "python",
   "name": "ai"
  },
  "language_info": {
   "codemirror_mode": {
    "name": "ipython",
    "version": 3
   },
   "file_extension": ".py",
   "mimetype": "text/x-python",
   "name": "python",
   "nbconvert_exporter": "python",
   "pygments_lexer": "ipython3",
   "version": "3.8.16"
  },
  "orig_nbformat": 4
 },
 "nbformat": 4,
 "nbformat_minor": 2
}
