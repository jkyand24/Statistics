{
 "cells": [
  {
   "cell_type": "code",
   "execution_count": 36,
   "metadata": {},
   "outputs": [
    {
     "data": {
      "image/png": "[encoded data removed]",
      "text/plain": [
       "<Figure size 640x480 with 1 Axes>"
      ]
     },
     "metadata": {},
     "output_type": "display_data"
    }
   ],
   "source": [
    "import numpy as np\n",
    "import matplotlib.pyplot as plt\n",
    "from scipy.stats import poisson\n",
    "\n",
    "lambda_param = 3\n",
    "\n",
    "num_simulations = 1000\n",
    "events = np.random.poisson(lambda_param, num_simulations)\n",
    "\n",
    "plt.hist(events, bins = 10, alpha = 0.5)\n",
    "plt.xlabel('Number of events')\n",
    "plt.ylabel('Frequency')\n",
    "plt.title('Poisson Distribution Simulation')\n",
    "plt.show()"
   ]
  },
  {
   "cell_type": "code",
   "execution_count": 34,
   "metadata": {},
   "outputs": [
    {
     "data": {
      "text/plain": [
       "array([11,  9,  5,  6, 12, 15,  9, 14,  5,  8, 10, 10,  9, 10,  6,  8,  9,\n",
       "        6, 10,  3, 11, 12, 10,  6, 10, 11, 13, 10, 12, 10,  9,  8, 11,  9,\n",
       "       11,  9,  7, 11, 11, 10,  3, 13,  9,  9, 11,  6, 10, 15,  8,  8, 10,\n",
       "        8,  7,  7,  6,  6,  7, 10,  8,  6, 10, 11, 10, 10,  6,  2, 15, 11,\n",
       "        9, 12, 12,  8, 12,  7, 10, 11, 16, 10, 14, 12,  8,  2, 10,  7, 10,\n",
       "       11, 12,  6,  8, 13, 14, 12,  7, 10,  7, 13,  9,  9,  8, 14, 12, 12,\n",
       "       12,  9, 14,  7, 16, 11, 11, 11, 10, 12, 13, 10,  9,  8, 11,  8,  9,\n",
       "       13, 14, 17, 13,  8, 10, 11,  7,  9, 15, 10, 11,  6, 13,  7, 14, 13,\n",
       "        7, 16, 13,  6,  6,  4,  9,  5,  8, 14,  6, 14,  4,  9, 12,  9,  6,\n",
       "       13,  9, 13, 16, 11, 10, 12, 12,  5,  8, 16, 13, 11, 14,  9, 10,  9,\n",
       "       13,  5, 11, 11,  9, 11,  6,  5, 10,  9, 11, 11,  9,  9,  8,  8,  6,\n",
       "       12,  9, 10, 14, 13,  8, 12, 12,  9, 13, 15, 12,  9, 14, 10,  9,  6,\n",
       "       17, 10, 13,  6, 11,  9,  7,  7,  5,  5,  6, 16, 11, 10,  9,  9, 11,\n",
       "        7, 14, 11, 16, 13, 12, 11, 10, 11, 11,  8,  8,  9, 10,  7,  5, 16,\n",
       "       12, 12, 11, 11, 10, 11,  6, 15,  8, 12,  5,  9, 12,  6,  8,  6,  6,\n",
       "       11, 10, 12,  8,  6, 12, 10,  8, 10,  8,  9, 11,  5, 11,  6,  8,  7,\n",
       "        3, 10, 17, 13, 16,  9,  6,  6, 14,  8, 15, 11, 10, 11, 10,  8, 10,\n",
       "       14,  5, 13, 10,  9, 13,  9,  6, 12, 15, 11, 13, 10, 11, 11, 16, 15,\n",
       "       18, 15, 11, 10, 10,  7, 10, 11, 10, 14, 14,  8, 11, 11,  8,  7,  6,\n",
       "        8, 10, 11, 11, 12, 11,  8, 14, 10,  5,  8,  8,  9, 14,  8, 10, 12,\n",
       "       16, 10,  8, 13,  8, 16, 10, 12,  6,  7, 10, 10, 14,  6,  4,  8,  7,\n",
       "       10, 13,  6, 11, 15, 13, 14, 14, 14, 11, 12,  9, 17, 10, 12, 14, 14,\n",
       "       10,  8, 13, 12, 10, 16,  6,  9, 11, 13, 11,  6, 10,  7, 15,  8,  9,\n",
       "        9,  6, 15, 14, 10,  9, 11, 14,  4,  9,  7, 23, 11, 10,  7,  8,  8,\n",
       "       12,  9,  9,  9, 13, 11, 12, 11, 12, 12, 12, 15, 14, 11, 13,  9, 14,\n",
       "       11,  8, 10, 12, 12,  8, 17,  8,  9, 15,  7, 11, 12, 17, 11, 20,  8,\n",
       "       11,  9,  8,  9,  9,  8, 10, 10,  8, 10,  7, 13,  7, 10, 11, 14, 11,\n",
       "       10, 11,  9, 15, 12, 11,  6, 11, 11, 10,  8,  7,  7,  8,  6, 12, 12,\n",
       "       10, 13, 14,  8, 11,  8,  8, 10, 16,  7, 11,  4,  5, 16,  5, 17, 16,\n",
       "        8,  8, 16, 10, 10, 12,  9,  7,  4,  8, 12,  5,  6,  3,  9,  7, 12,\n",
       "       10,  6, 14, 12,  7,  9, 13,  5,  7, 14, 14, 11,  9, 10, 11,  8,  8,\n",
       "       17, 16, 14, 10, 10,  7, 13,  9, 11, 12,  6, 16, 14, 13, 13, 13,  9,\n",
       "        5,  9, 10,  9, 11,  6, 10, 11, 14,  9,  7,  4, 13, 10, 10, 15, 11,\n",
       "       11, 11, 14, 11,  9, 12, 12, 10,  7,  9, 14,  9,  9, 11, 12, 13, 10,\n",
       "        6, 11, 13,  6,  9, 14,  6, 11,  9, 14,  7, 10,  5, 14,  8,  8, 12,\n",
       "        9,  7, 13, 13, 11,  9, 16,  4,  8, 12, 11, 11,  6,  5, 18,  9, 12,\n",
       "        8, 11,  5,  7, 11,  6, 13, 10, 11, 14,  5, 13, 11, 13, 10,  8, 10,\n",
       "        8, 17,  5, 13, 14,  8, 12, 10,  8,  8, 12, 10, 12, 10, 14,  9, 10,\n",
       "        8, 11, 12, 16, 15,  9, 10, 13, 11,  4, 12, 13, 14,  9, 14, 11,  6,\n",
       "        6,  8, 11,  8, 14,  7, 13, 12,  6, 12,  5, 14,  7,  8, 11,  9,  8,\n",
       "       11,  6,  7,  9,  9,  9, 11,  9,  9, 12,  8,  9, 10, 20, 11,  9, 11,\n",
       "        8, 10, 14, 11,  9,  9, 11, 15, 11, 12, 10, 12, 10, 21, 16, 13,  5,\n",
       "        9, 16, 12, 12, 10, 18,  8,  3, 13,  9, 11,  9, 17, 10,  6, 11, 13,\n",
       "        6, 18,  9, 14, 13,  3, 11, 10, 13, 12, 10, 10,  7, 10, 13, 12,  4,\n",
       "       10,  7, 16,  8,  8,  9, 11, 15,  8,  8,  8, 14, 10, 10, 11, 11,  5,\n",
       "        9, 12, 10, 10,  9,  8,  8, 11,  7, 12,  5,  8, 16,  8,  7, 15, 15,\n",
       "        7,  8, 11, 12, 13,  9, 12,  9,  8, 15, 10, 13,  8,  7, 14,  8,  8,\n",
       "       13,  7, 14, 12,  8, 10, 11, 15, 11,  8,  6,  8,  9, 12,  8, 13,  9,\n",
       "       16, 15, 13,  9, 11, 14,  7, 11,  6, 14,  8,  9,  9,  6, 11, 13,  9,\n",
       "        9,  8,  8, 14,  9, 13,  9, 13,  6, 14,  9, 12,  8, 14, 12,  9,  8,\n",
       "       10, 12, 10,  6, 10,  8,  3,  6,  4,  9,  7, 10, 19,  9, 14,  9, 15,\n",
       "       14, 11, 12,  7,  8, 12, 11,  8, 15,  6, 13, 12, 13, 12, 14,  9,  8,\n",
       "       10, 11,  8, 14, 10, 10, 14, 10, 17,  6,  9, 10, 11,  9,  9, 13,  8,\n",
       "        9,  5, 10, 10,  8, 10,  9, 10, 12, 12, 11, 14, 15,  7, 13,  7,  9,\n",
       "       10,  6,  7, 11, 10, 14, 10,  6, 10, 13, 14, 11, 10, 11,  8, 11, 10,\n",
       "       11,  7,  9, 16, 14,  8,  8,  8,  8, 14, 17, 15, 11, 11,  9, 15, 17,\n",
       "       13, 20,  9,  9, 10, 10, 10,  8, 11, 14, 14, 12, 11, 13,  7,  3, 13,\n",
       "       14,  9,  4, 11,  8, 16,  6, 16,  6, 11,  6,  2,  8, 15, 10,  7,  4,\n",
       "        9, 14,  9,  7, 11,  6,  9,  6,  9,  8, 13, 12,  9, 11])"
      ]
     },
     "execution_count": 34,
     "metadata": {},
     "output_type": "execute_result"
    }
   ],
   "source": [
    "events"
   ]
  },
  {
   "cell_type": "code",
   "execution_count": null,
   "metadata": {},
   "outputs": [],
   "source": []
  }
 ],
 "metadata": {
  "kernelspec": {
   "display_name": "AI",
   "language": "python",
   "name": "ai"
  },
  "language_info": {
   "codemirror_mode": {
    "name": "ipython",
    "version": 3
   },
   "file_extension": ".py",
   "mimetype": "text/x-python",
   "name": "python",
   "nbconvert_exporter": "python",
   "pygments_lexer": "ipython3",
   "version": "3.8.16"
  },
  "orig_nbformat": 4
 },
 "nbformat": 4,
 "nbformat_minor": 2
}
