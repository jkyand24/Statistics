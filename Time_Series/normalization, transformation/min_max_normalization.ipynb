{
 "cells": [
  {
   "cell_type": "code",
   "execution_count": 3,
   "metadata": {},
   "outputs": [
    {
     "name": "stdout",
     "output_type": "stream",
     "text": [
      "         Date  Value_normalized\n",
      "0  2023-01-01          0.535354\n",
      "1  2023-01-02          0.616162\n",
      "2  2023-01-03          0.111111\n",
      "3  2023-01-04          0.292929\n",
      "4  2023-01-05          0.696970\n",
      "..        ...               ...\n",
      "95 2023-04-06          0.232323\n",
      "96 2023-04-07          0.878788\n",
      "97 2023-04-08          0.989899\n",
      "98 2023-04-09          0.141414\n",
      "99 2023-04-10          0.050505\n",
      "\n",
      "[100 rows x 2 columns]\n"
     ]
    }
   ],
   "source": [
    "import pandas as pd\n",
    "import numpy as np\n",
    "\n",
    "dates = pd.date_range(start = '2023-01-01', periods = 100, freq = 'D')\n",
    "values = np.random.randint(0, 100, size = 100)\n",
    "data = pd.DataFrame({'Date': dates, \"Value\": values})\n",
    "\n",
    "min_value = data['Value'].min()\n",
    "max_value = data['Value'].max()\n",
    "data['Value_normalized'] = (data['Value'] - min_value) / (max_value - min_value)\n",
    "\n",
    "print(data[['Date', 'Value_normalized']])"
   ]
  },
  {
   "cell_type": "code",
   "execution_count": null,
   "metadata": {},
   "outputs": [],
   "source": []
  }
 ],
 "metadata": {
  "kernelspec": {
   "display_name": "AI",
   "language": "python",
   "name": "ai"
  },
  "language_info": {
   "codemirror_mode": {
    "name": "ipython",
    "version": 3
   },
   "file_extension": ".py",
   "mimetype": "text/x-python",
   "name": "python",
   "nbconvert_exporter": "python",
   "pygments_lexer": "ipython3",
   "version": "3.8.16"
  },
  "orig_nbformat": 4
 },
 "nbformat": 4,
 "nbformat_minor": 2
}
