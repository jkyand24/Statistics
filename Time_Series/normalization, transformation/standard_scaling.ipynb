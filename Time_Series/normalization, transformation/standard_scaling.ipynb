{
 "cells": [
  {
   "cell_type": "code",
   "execution_count": 7,
   "metadata": {},
   "outputs": [
    {
     "name": "stdout",
     "output_type": "stream",
     "text": [
      "0    -0.713746\n",
      "1     0.079305\n",
      "2    -0.317221\n",
      "3     1.268883\n",
      "4    -1.110272\n",
      "        ...   \n",
      "95    0.475831\n",
      "96   -1.506798\n",
      "97    0.872357\n",
      "98   -0.713746\n",
      "99    1.665408\n",
      "Name: Value_scaled, Length: 100, dtype: float64\n"
     ]
    }
   ],
   "source": [
    "import pandas as pd\n",
    "from sklearn.preprocessing import StandardScaler\n",
    "\n",
    "dates = pd.date_range(start = '2023-01-01', periods = 100, freq = 'D')\n",
    "values = [10, 12, 11, 15, 9, 13, 8, 14, 10, 16] * 10\n",
    "data = pd.DataFrame({'Date': dates, \"Value\": values})\n",
    "\n",
    "X = data['Value'].values.reshape(-1, 1)\n",
    "\n",
    "scaler = StandardScaler()\n",
    "X_scaled = scaler.fit_transform(X)\n",
    "\n",
    "data['Value_scaled'] = X_scaled\n",
    "\n",
    "print(data['Value_scaled'])"
   ]
  },
  {
   "cell_type": "code",
   "execution_count": 12,
   "metadata": {},
   "outputs": [
    {
     "data": {
      "text/plain": [
       "(100, 1)"
      ]
     },
     "execution_count": 12,
     "metadata": {},
     "output_type": "execute_result"
    }
   ],
   "source": [
    "X.shape"
   ]
  },
  {
   "cell_type": "code",
   "execution_count": null,
   "metadata": {},
   "outputs": [],
   "source": []
  }
 ],
 "metadata": {
  "kernelspec": {
   "display_name": "AI",
   "language": "python",
   "name": "ai"
  },
  "language_info": {
   "codemirror_mode": {
    "name": "ipython",
    "version": 3
   },
   "file_extension": ".py",
   "mimetype": "text/x-python",
   "name": "python",
   "nbconvert_exporter": "python",
   "pygments_lexer": "ipython3",
   "version": "3.8.16"
  },
  "orig_nbformat": 4
 },
 "nbformat": 4,
 "nbformat_minor": 2
}
