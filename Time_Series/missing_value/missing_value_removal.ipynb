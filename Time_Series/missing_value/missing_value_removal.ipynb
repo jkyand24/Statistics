{
 "cells": [
  {
   "cell_type": "code",
   "execution_count": 8,
   "metadata": {},
   "outputs": [
    {
     "name": "stdout",
     "output_type": "stream",
     "text": [
      "         Date     Value\n",
      "0  2023-01-01  0.496714\n",
      "1  2023-01-02 -0.138264\n",
      "2  2023-01-03  0.647689\n",
      "3  2023-01-04  1.523030\n",
      "4  2023-01-05 -0.234153\n",
      "..        ...       ...\n",
      "95 2023-04-06 -1.463515\n",
      "96 2023-04-07  0.296120\n",
      "97 2023-04-08  0.261055\n",
      "98 2023-04-09  0.005113\n",
      "99 2023-04-10 -0.234587\n",
      "\n",
      "[100 rows x 2 columns]\n",
      "\n",
      "\n",
      "Date     2023-01-11 00:00:00\n",
      "Value                    NaN\n",
      "Name: 10, dtype: object\n",
      "\n",
      "\n",
      "결측치 개수:\n",
      "Date     0\n",
      "Value    1\n",
      "dtype: int64\n",
      "\n",
      "\n",
      "결측치 제거된 데이터:\n",
      "         Date     Value\n",
      "0  2023-01-01  0.496714\n",
      "1  2023-01-02 -0.138264\n",
      "2  2023-01-03  0.647689\n",
      "3  2023-01-04  1.523030\n",
      "4  2023-01-05 -0.234153\n",
      "..        ...       ...\n",
      "95 2023-04-06 -1.463515\n",
      "96 2023-04-07  0.296120\n",
      "97 2023-04-08  0.261055\n",
      "98 2023-04-09  0.005113\n",
      "99 2023-04-10 -0.234587\n",
      "\n",
      "[99 rows x 2 columns]\n"
     ]
    }
   ],
   "source": [
    "import numpy as np\n",
    "import pandas as pd\n",
    "\n",
    "dates = pd.date_range(start = '2023-01-01', periods = 100, freq = 'D')\n",
    "np.random.seed(42)\n",
    "values = np.random.randn(100)\n",
    "values[10] = np.nan\n",
    "\n",
    "data = pd.DataFrame({'Date': dates, 'Value': values})\n",
    "print(data)\n",
    "print('\\n')\n",
    "\n",
    "row_11 = data.iloc[10]\n",
    "print(row_11)\n",
    "print('\\n')\n",
    "\n",
    "print('결측치 개수:')\n",
    "print(data.isnull().sum())\n",
    "print('\\n')\n",
    "\n",
    "data_without_missing = data.dropna(axis = 0)\n",
    "\n",
    "print('결측치 제거된 데이터:')\n",
    "print(data_without_missing)"
   ]
  },
  {
   "cell_type": "code",
   "execution_count": null,
   "metadata": {},
   "outputs": [],
   "source": []
  }
 ],
 "metadata": {
  "kernelspec": {
   "display_name": "AI",
   "language": "python",
   "name": "ai"
  },
  "language_info": {
   "codemirror_mode": {
    "name": "ipython",
    "version": 3
   },
   "file_extension": ".py",
   "mimetype": "text/x-python",
   "name": "python",
   "nbconvert_exporter": "python",
   "pygments_lexer": "ipython3",
   "version": "3.8.16"
  },
  "orig_nbformat": 4
 },
 "nbformat": 4,
 "nbformat_minor": 2
}
