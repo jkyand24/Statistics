{
 "cells": [
  {
   "cell_type": "code",
   "execution_count": 6,
   "metadata": {},
   "outputs": [
    {
     "name": "stdout",
     "output_type": "stream",
     "text": [
      "          Date  Value\n",
      "100 2023-04-11    NaN\n",
      "101 2023-04-12    NaN\n",
      "102 2023-04-13    NaN\n",
      "103 2023-04-14    NaN\n",
      "104 2023-04-15    NaN\n",
      "..         ...    ...\n",
      "196 2023-07-16    NaN\n",
      "197 2023-07-17    NaN\n",
      "198 2023-07-18    NaN\n",
      "199 2023-07-19    NaN\n",
      "200 2023-07-20    NaN\n",
      "\n",
      "[101 rows x 2 columns]\n"
     ]
    }
   ],
   "source": [
    "import numpy as np\n",
    "import pandas as pd\n",
    "import matplotlib.pyplot as plt\n",
    "from scipy.interpolate import CubicSpline\n",
    "\n",
    "dates = pd.date_range(start = '2023-01-01', periods = 1000, freq = 'D')\n",
    "np.random.seed(42)\n",
    "values = np.random.randn(1000)\n",
    "\n",
    "data = pd.DataFrame({'Date': dates, 'Value': values})\n",
    "\n",
    "data.loc[100:200, 'Value'] = np.nan\n",
    "print(data.loc[100:200])"
   ]
  },
  {
   "cell_type": "code",
   "execution_count": 7,
   "metadata": {},
   "outputs": [
    {
     "name": "stdout",
     "output_type": "stream",
     "text": [
      "          Date  Value  Value_filled\n",
      "100 2023-04-11    NaN     -0.226789\n",
      "101 2023-04-12    NaN     -0.218992\n",
      "102 2023-04-13    NaN     -0.211194\n",
      "103 2023-04-14    NaN     -0.203396\n",
      "104 2023-04-15    NaN     -0.195598\n",
      "..         ...    ...           ...\n",
      "196 2023-07-16    NaN      0.521796\n",
      "197 2023-07-17    NaN      0.529593\n",
      "198 2023-07-18    NaN      0.537391\n",
      "199 2023-07-19    NaN      0.545189\n",
      "200 2023-07-20    NaN      0.552987\n",
      "\n",
      "[101 rows x 3 columns]\n",
      "\n",
      "\n",
      "          Date  Value  Value_filled  Value_spline\n",
      "100 2023-04-11    NaN     -0.226789     -0.226789\n",
      "101 2023-04-12    NaN     -0.218992     -0.218992\n",
      "102 2023-04-13    NaN     -0.211194     -0.211194\n",
      "103 2023-04-14    NaN     -0.203396     -0.203396\n",
      "104 2023-04-15    NaN     -0.195598     -0.195598\n",
      "..         ...    ...           ...           ...\n",
      "196 2023-07-16    NaN      0.521796      0.521796\n",
      "197 2023-07-17    NaN      0.529593      0.529593\n",
      "198 2023-07-18    NaN      0.537391      0.537391\n",
      "199 2023-07-19    NaN      0.545189      0.545189\n",
      "200 2023-07-20    NaN      0.552987      0.552987\n",
      "\n",
      "[101 rows x 4 columns]\n"
     ]
    }
   ],
   "source": [
    "data['Value_filled'] = data['Value'].interpolate(method = 'linear')\n",
    "print(data.loc[100:200])\n",
    "print('\\n')\n",
    "\n",
    "spl = CubicSpline(data.index, data['Value_filled'])\n",
    "data['Value_spline'] = spl(data.index)\n",
    "print(data.loc[100:200])"
   ]
  }
 ],
 "metadata": {
  "kernelspec": {
   "display_name": "AI",
   "language": "python",
   "name": "ai"
  },
  "language_info": {
   "codemirror_mode": {
    "name": "ipython",
    "version": 3
   },
   "file_extension": ".py",
   "mimetype": "text/x-python",
   "name": "python",
   "nbconvert_exporter": "python",
   "pygments_lexer": "ipython3",
   "version": "3.8.16"
  },
  "orig_nbformat": 4
 },
 "nbformat": 4,
 "nbformat_minor": 2
}
