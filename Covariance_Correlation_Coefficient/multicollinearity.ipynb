{
 "cells": [
  {
   "cell_type": "code",
   "execution_count": 6,
   "metadata": {},
   "outputs": [
    {
     "name": "stdout",
     "output_type": "stream",
     "text": [
      "\n",
      "np.vstack([x1, x2, x3]):\n",
      " [[ 1  2  3  4  5]\n",
      " [ 2  4  6  8 10]\n",
      " [ 3  6  9 12 15]]\n",
      "\n",
      "data:\n",
      " [[ 1  2  3]\n",
      " [ 2  4  6]\n",
      " [ 3  6  9]\n",
      " [ 4  8 12]\n",
      " [ 5 10 15]]\n",
      "\n",
      "cor_matrix:\n",
      " [[1. 1. 1.]\n",
      " [1. 1. 1.]\n",
      " [1. 1. 1.]]\n",
      "\n",
      "Variables with high multicollinearity:\n",
      "\n",
      "Variable 1 and variable 2\n",
      "Variable 1 and variable 3\n",
      "Variable 2 and variable 3\n"
     ]
    }
   ],
   "source": [
    "import numpy as np\n",
    "\n",
    "x1 = np.array([1, 2, 3, 4, 5])\n",
    "x2 = np.array([2, 4, 6, 8, 10])\n",
    "x3 = np.array([3, 6, 9, 12, 15])\n",
    "\n",
    "print(\"\\nnp.vstack([x1, x2, x3]):\\n\", np.vstack([x1, x2, x3]))\n",
    "\n",
    "data = np.vstack([x1, x2, x3]).T\n",
    "\n",
    "print(\"\\ndata:\\n\", data)\n",
    "\n",
    "cor_matrix = np.corrcoef(data, rowvar=False)\n",
    "\n",
    "print('\\ncor_matrix:\\n', cor_matrix)\n",
    "\n",
    "threshold = 0.7\n",
    "\n",
    "print('\\nVariables with high multicollinearity:\\n')\n",
    "for i in range(cor_matrix.shape[0]):\n",
    "    for j in range(i+1, cor_matrix.shape[1]):\n",
    "        if abs(cor_matrix[i, j]) > threshold:\n",
    "            print(f\"Variable {i+1} and variable {j+1}\")"
   ]
  },
  {
   "cell_type": "code",
   "execution_count": null,
   "metadata": {},
   "outputs": [],
   "source": []
  }
 ],
 "metadata": {
  "kernelspec": {
   "display_name": "AI",
   "language": "python",
   "name": "ai"
  },
  "language_info": {
   "codemirror_mode": {
    "name": "ipython",
    "version": 3
   },
   "file_extension": ".py",
   "mimetype": "text/x-python",
   "name": "python",
   "nbconvert_exporter": "python",
   "pygments_lexer": "ipython3",
   "version": "3.8.16"
  },
  "orig_nbformat": 4
 },
 "nbformat": 4,
 "nbformat_minor": 2
}
